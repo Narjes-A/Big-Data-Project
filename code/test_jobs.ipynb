{
 "cells": [
  {
   "cell_type": "code",
   "execution_count": 42,
   "id": "ff19c5af-ae0a-401b-9d59-5d69bd288909",
   "metadata": {},
   "outputs": [],
   "source": [
    "from pyspark.sql import SparkSession\n",
    "import time"
   ]
  },
  {
   "cell_type": "code",
   "execution_count": 43,
   "id": "60a4f1dc-d16e-4c80-933f-5ebf1915abc7",
   "metadata": {},
   "outputs": [],
   "source": [
    "# Initialize Spark Session\n",
    "spark = SparkSession.builder \\\n",
    "    .appName(\"Spark UI Monitoring Example\") \\\n",
    "    .getOrCreate()"
   ]
  },
  {
   "cell_type": "code",
   "execution_count": 44,
   "id": "39e17e3f-1aea-4c54-8b76-308518d092fc",
   "metadata": {},
   "outputs": [],
   "source": [
    "data = [(x, x**2, x**3) for x in range(1, 1000000)]  # A large dataset\n",
    "columns = [\"Number\", \"Square\", \"Cube\"]\n",
    "large_df = spark.createDataFrame(data, columns)"
   ]
  },
  {
   "cell_type": "code",
   "execution_count": 41,
   "id": "f1dea0a9-c616-4ad0-bd32-b25b2cd6d178",
   "metadata": {},
   "outputs": [],
   "source": [
    "transformed_df = large_df.filter(large_df[\"Number\"] % 2 == 0).select(\"Number\", \"Square\",\"cube\")"
   ]
  },
  {
   "cell_type": "code",
   "execution_count": 36,
   "id": "414f83e3-a781-4bf1-a4b5-4929547a7de4",
   "metadata": {},
   "outputs": [],
   "source": [
    "transformed_df.write.mode(\"ignore\").csv(\"file:///C:/_temp/data/test.csv\")"
   ]
  },
  {
   "cell_type": "code",
   "execution_count": 37,
   "id": "076aee68-6217-479e-b28a-11fc1b340df1",
   "metadata": {},
   "outputs": [
    {
     "name": "stdout",
     "output_type": "stream",
     "text": [
      "+------+------+-----+\n",
      "|Number|Square| cube|\n",
      "+------+------+-----+\n",
      "|     2|     4|    8|\n",
      "|     4|    16|   64|\n",
      "|     6|    36|  216|\n",
      "|     8|    64|  512|\n",
      "|    10|   100| 1000|\n",
      "|    12|   144| 1728|\n",
      "|    14|   196| 2744|\n",
      "|    16|   256| 4096|\n",
      "|    18|   324| 5832|\n",
      "|    20|   400| 8000|\n",
      "|    22|   484|10648|\n",
      "|    24|   576|13824|\n",
      "|    26|   676|17576|\n",
      "|    28|   784|21952|\n",
      "|    30|   900|27000|\n",
      "|    32|  1024|32768|\n",
      "|    34|  1156|39304|\n",
      "|    36|  1296|46656|\n",
      "|    38|  1444|54872|\n",
      "|    40|  1600|64000|\n",
      "+------+------+-----+\n",
      "only showing top 20 rows\n",
      "\n"
     ]
    }
   ],
   "source": [
    "transformed_df.show()"
   ]
  },
  {
   "cell_type": "code",
   "execution_count": null,
   "id": "7be8b973-d2dd-4bfc-8ed9-2cdff0cb19ce",
   "metadata": {},
   "outputs": [],
   "source": [
    "print(\"Task completed, pausing to monitor Spark UI...\")\n",
    "time.sleep(600)  # Pause for 10 minutes to check the Spark UI\n",
    "\n",
    "# Stop the Spark Session\n",
    "spark.stop()"
   ]
  },
  {
   "cell_type": "code",
   "execution_count": 31,
   "id": "9c63c9b3-e00b-459b-8662-c51c3ad5a1a9",
   "metadata": {},
   "outputs": [
    {
     "data": {
      "text/plain": [
       "'local[*]'"
      ]
     },
     "execution_count": 31,
     "metadata": {},
     "output_type": "execute_result"
    }
   ],
   "source": [
    "spark.sparkContext.master"
   ]
  },
  {
   "cell_type": "code",
   "execution_count": null,
   "id": "08e63488-d788-4589-aead-0f5bf263ae75",
   "metadata": {},
   "outputs": [],
   "source": []
  }
 ],
 "metadata": {
  "kernelspec": {
   "display_name": "Python 3.9 (oldPy)",
   "language": "python",
   "name": "oldpy"
  },
  "language_info": {
   "codemirror_mode": {
    "name": "ipython",
    "version": 3
   },
   "file_extension": ".py",
   "mimetype": "text/x-python",
   "name": "python",
   "nbconvert_exporter": "python",
   "pygments_lexer": "ipython3",
   "version": "3.9.20"
  }
 },
 "nbformat": 4,
 "nbformat_minor": 5
}
