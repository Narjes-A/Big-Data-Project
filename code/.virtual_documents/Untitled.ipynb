from pyspark.sql import SparkSession

spark = SparkSession.builder \
    .appName("Weather Data") \
    .getOrCreate()

file_path = "C:\\Users\\AmirHossein\\Desktop\\BigData\\weatherAUS.csv"
weather_data = spark.read.csv(file_path, header=True, inferSchema=True)

weather_data.show()


weather_data.printSchema()


rain_counts = weather_data.groupBy("RainTomorrow").count()
rain_counts.show()


# Collect results into lists
results = rain_counts.collect()

# Extract labels and counts
labels = [row['RainTomorrow'] for row in results]
counts = [row['count'] for row in results]


import matplotlib.pyplot as plt

# Set colors
cols = ["#C2C4E2", "#EED4E5"]

# Create a bar plot
plt.bar(labels, counts, color=cols)
plt.title('Count of RainTomorrow')
plt.xlabel('RainTomorrow')
plt.ylabel('Count')
plt.show()


!pip install pandas



